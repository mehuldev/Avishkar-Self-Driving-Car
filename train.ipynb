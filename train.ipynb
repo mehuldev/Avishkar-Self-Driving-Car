{
  "nbformat": 4,
  "nbformat_minor": 0,
  "metadata": {
    "colab": {
      "name": "Sample_code_for_training.ipynb",
      "provenance": []
    },
    "kernelspec": {
      "name": "python3",
      "display_name": "Python 3"
    },
    "accelerator": "GPU"
  },
  "cells": [
    {
      "cell_type": "code",
      "metadata": {
        "id": "KiYl7atnrLjE",
        "outputId": "ec631e69-1334-4a08-fdfa-88541d4d9f46",
        "colab": {
          "base_uri": "https://localhost:8080/",
          "height": 212
        }
      },
      "source": [
        "from google.colab import drive\n",
        "drive.mount('/content/drive')                #Mounting The Drive\n",
        "%tensorflow_version 2.x                        \n",
        "import tensorflow as tf    \n",
        "import pandas as pd\n",
        "train = pd.read_csv('/content/drive/My Drive/Imitation_Learning/con.csv')     #Loading Data From Drive\n",
        "train.head()\n"
      ],
      "execution_count": null,
      "outputs": [
        {
          "output_type": "stream",
          "text": [
            "Drive already mounted at /content/drive; to attempt to forcibly remount, call drive.mount(\"/content/drive\", force_remount=True).\n"
          ],
          "name": "stdout"
        },
        {
          "output_type": "execute_result",
          "data": {
            "text/html": [
              "<div>\n",
              "<style scoped>\n",
              "    .dataframe tbody tr th:only-of-type {\n",
              "        vertical-align: middle;\n",
              "    }\n",
              "\n",
              "    .dataframe tbody tr th {\n",
              "        vertical-align: top;\n",
              "    }\n",
              "\n",
              "    .dataframe thead th {\n",
              "        text-align: right;\n",
              "    }\n",
              "</style>\n",
              "<table border=\"1\" class=\"dataframe\">\n",
              "  <thead>\n",
              "    <tr style=\"text-align: right;\">\n",
              "      <th></th>\n",
              "      <th>image</th>\n",
              "      <th>speed</th>\n",
              "      <th>turn</th>\n",
              "    </tr>\n",
              "  </thead>\n",
              "  <tbody>\n",
              "    <tr>\n",
              "      <th>0</th>\n",
              "      <td>0</td>\n",
              "      <td>0.00</td>\n",
              "      <td>0.0</td>\n",
              "    </tr>\n",
              "    <tr>\n",
              "      <th>1</th>\n",
              "      <td>1</td>\n",
              "      <td>0.00</td>\n",
              "      <td>0.0</td>\n",
              "    </tr>\n",
              "    <tr>\n",
              "      <th>2</th>\n",
              "      <td>2</td>\n",
              "      <td>0.12</td>\n",
              "      <td>0.0</td>\n",
              "    </tr>\n",
              "    <tr>\n",
              "      <th>3</th>\n",
              "      <td>3</td>\n",
              "      <td>0.44</td>\n",
              "      <td>0.0</td>\n",
              "    </tr>\n",
              "    <tr>\n",
              "      <th>4</th>\n",
              "      <td>4</td>\n",
              "      <td>0.56</td>\n",
              "      <td>0.0</td>\n",
              "    </tr>\n",
              "  </tbody>\n",
              "</table>\n",
              "</div>"
            ],
            "text/plain": [
              "   image  speed  turn\n",
              "0      0   0.00   0.0\n",
              "1      1   0.00   0.0\n",
              "2      2   0.12   0.0\n",
              "3      3   0.44   0.0\n",
              "4      4   0.56   0.0"
            ]
          },
          "metadata": {
            "tags": []
          },
          "execution_count": 2
        }
      ]
    },
    {
      "cell_type": "code",
      "metadata": {
        "id": "7TV__dHZrkLZ",
        "outputId": "2357242c-167d-46aa-d242-cd4df286b3bc",
        "colab": {
          "base_uri": "https://localhost:8080/",
          "height": 35
        }
      },
      "source": [
        "from __future__ import division, print_function, absolute_import\n",
        "from tqdm import tqdm\n",
        "from keras.preprocessing import image\n",
        "import numpy as np\n",
        "\n",
        "train_image = []\n",
        "for i in tqdm(range(train.shape[0])):\n",
        "    img = image.load_img('/content/drive/My Drive/Imitation_Learning/'+str(train['image'][i])+'.jpg',target_size=(640,230,3))\n",
        "    img = image.img_to_array(img)\n",
        "    train_image.append(img)\n"
      ],
      "execution_count": null,
      "outputs": [
        {
          "output_type": "stream",
          "text": [
            "100%|██████████| 274/274 [01:11<00:00,  3.82it/s]\n"
          ],
          "name": "stderr"
        }
      ]
    },
    {
      "cell_type": "code",
      "metadata": {
        "id": "Lg6lQAYmryt3"
      },
      "source": [
        "import matplotlib.pyplot as plt\n",
        "import numpy as np\n",
        "from sklearn.model_selection import train_test_split\n",
        "X = np.array(train_image)\n",
        "print(X.shape)\n",
        "print(type(X))\n",
        "Y = np.array(train.drop(['image','speed'],axis=1))\n",
        "print(Y.shape)\n",
        "X_train, X_test, y_train, y_test = train_test_split(X, Y, random_state=1337, test_size=###)          #Split into train and test\n",
        "print(y_test)"
      ],
      "execution_count": null,
      "outputs": []
    },
    {
      "cell_type": "code",
      "metadata": {
        "id": "rTi9BHpFs9Xu"
      },
      "source": [
        "from keras.models import Sequential\n",
        "from keras.layers import Flatten, Dense, Lambda, Activation\n",
        "from keras.layers.convolutional import Convolution2D\n",
        "from keras.layers.pooling import MaxPooling2D, AveragePooling2D\n",
        "from keras.layers import Cropping2D\n",
        "from keras.layers.core import Dropout\n",
        "from keras.layers.normalization import BatchNormalization\n"
      ],
      "execution_count": null,
      "outputs": []
    },
    {
      "cell_type": "code",
      "metadata": {
        "id": "f3qG1y7UlTMi"
      },
      "source": [
        "init='glorot_normal'\n",
        "activation = 'sigmoid'        ##Choose your Function\n",
        "\n",
        "model = Sequential()        \n",
        "model.add(Convolution2D(8,5, strides=(2,2), input_shape=(640,230,3))) ###############Conv Layer\n",
        "model.add(Activation(activation))\n",
        "model.add(AveragePooling2D(pool_size=(5,5), strides=(2,2),padding='valid'))#################Pool Layer\n",
        "model.add(Activation(activation))\n",
        "model.add(Flatten())                    ######################flat Layer\n",
        "\n",
        "model.add(Dense(1))"
      ],
      "execution_count": null,
      "outputs": []
    },
    {
      "cell_type": "code",
      "metadata": {
        "id": "kha93F7cuhuH"
      },
      "source": [
        "model.summary()        ##Prints your model"
      ],
      "execution_count": null,
      "outputs": []
    },
    {
      "cell_type": "code",
      "metadata": {
        "id": "but-y8TLvPLA"
      },
      "source": [
        "model.compile(optimizer=tf.keras.optimizers.Adam(learning_rate=####), loss='####', metrics=['###'])  "
      ],
      "execution_count": null,
      "outputs": []
    },
    {
      "cell_type": "code",
      "metadata": {
        "id": "r2qoXlhFv_Jg"
      },
      "source": [
        "hist=model.fit(X_train, y_train, epochs=#, validation_data=(X_test, y_test), batch_size=#, shuffle=True)"
      ],
      "execution_count": null,
      "outputs": []
    },
    {
      "cell_type": "code",
      "metadata": {
        "id": "sSo5S2Kh0tlv"
      },
      "source": [
        "##To print loss function Graph\n",
        "\n",
        "plt.plot(hist.history['mae'])\n",
        "plt.plot(hist.history['val_mae'])\n",
        "plt.title('Model accuracy')\n",
        "plt.ylabel('Accuracy')\n",
        "plt.xlabel('Epoch')\n",
        "plt.legend(['Train', 'Val'], loc='upper left')\n",
        "plt.show()\n",
        "plt.pause(5.)\n",
        "\n",
        "plt.plot(hist.history['loss'])\n",
        "plt.plot(hist.history['val_loss'])\n",
        "plt.title('Model loss')\n",
        "plt.ylabel('Loss')\n",
        "plt.xlabel('Epoch')\n",
        "plt.legend(['Train', 'Val'], loc='upper right')\n",
        "plt.show()\n",
        "plt.pause(5.)"
      ],
      "execution_count": null,
      "outputs": []
    },
    {
      "cell_type": "code",
      "metadata": {
        "id": "vfnXaBTGsRcU"
      },
      "source": [
        "model.save(\"model1.h5\")   #save your trained model \n",
        "#and use this model in carla code using model.load() func "
      ],
      "execution_count": null,
      "outputs": []
    },
    {
      "cell_type": "code",
      "metadata": {
        "id": "nHi8OrtX-oiL"
      },
      "source": [
        "##################All The Best############################"
      ],
      "execution_count": null,
      "outputs": []
    }
  ]
}