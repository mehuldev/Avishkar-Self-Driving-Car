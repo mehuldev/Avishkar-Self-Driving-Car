{
  "nbformat": 4,
  "nbformat_minor": 0,
  "metadata": {
    "colab": {
      "name": "Untitled2 (1).ipynb",
      "provenance": [],
      "collapsed_sections": []
    },
    "kernelspec": {
      "name": "python3",
      "display_name": "Python 3"
    },
    "accelerator": "GPU"
  },
  "cells": [
    {
      "cell_type": "markdown",
      "metadata": {
        "id": "Xu0XaIu2DyTY"
      },
      "source": [
        "Mounting the google drive"
      ]
    },
    {
      "cell_type": "code",
      "metadata": {
        "id": "j_40Q-PaClbw",
        "outputId": "4c30377f-cfaa-4198-a12b-d185b8f2275e",
        "colab": {
          "base_uri": "https://localhost:8080/",
          "height": 34
        }
      },
      "source": [
        "from google.colab import drive\n",
        "drive.mount('/content/drive')                                  "
      ],
      "execution_count": 2,
      "outputs": [
        {
          "output_type": "stream",
          "text": [
            "Mounted at /content/drive\n"
          ],
          "name": "stdout"
        }
      ]
    },
    {
      "cell_type": "markdown",
      "metadata": {
        "id": "Z1mhGIYRC2Hv"
      },
      "source": [
        "Importing Required Modules"
      ]
    },
    {
      "cell_type": "code",
      "metadata": {
        "id": "f_3YJ0joFzju"
      },
      "source": [
        "import tensorflow as tf    \n",
        "import pandas as pd\n",
        "from __future__ import division, print_function, absolute_import\n",
        "from tqdm import tqdm\n",
        "from keras.preprocessing import image\n",
        "import numpy as np\n",
        "import scipy.io as io\n",
        "import matplotlib.pyplot as plt\n",
        "from sklearn.model_selection import train_test_split\n",
        "\n",
        "from keras.models import Sequential\n",
        "from keras.layers import Flatten, Dense, Lambda, Activation\n",
        "from keras.layers.convolutional import Convolution2D\n",
        "from keras.layers.pooling import MaxPooling2D, AveragePooling2D\n",
        "from keras.layers import Cropping2D\n",
        "from keras.layers.core import Dropout\n",
        "from keras.layers.normalization import BatchNormalization\n",
        "import tensorflow as tf\n",
        "from tensorflow import keras\n",
        "from tensorflow.keras import layers\n",
        "\n",
        "import torch\n",
        "import torch.nn as nn\n",
        "import torch.optim as optim\n",
        "from torch.utils import data\n",
        "from torch.utils.data import DataLoader\n",
        "import torchvision.transforms as transforms\n"
      ],
      "execution_count": 3,
      "outputs": []
    },
    {
      "cell_type": "markdown",
      "metadata": {
        "id": "c5mr_MKxC24H"
      },
      "source": [
        "Importing the train data"
      ]
    },
    {
      "cell_type": "code",
      "metadata": {
        "id": "LpnUJB8KC7Us",
        "outputId": "0ee724be-8e11-4cb9-f067-c3fba5122ff0",
        "colab": {
          "base_uri": "https://localhost:8080/",
          "height": 68
        }
      },
      "source": [
        "data = io.loadmat('/content/drive/My Drive/Colab Notebooks/data')\n",
        "X = []\n",
        "Y = []\n",
        "del data['__header__']\n",
        "del data['__version__']\n",
        "del data['__globals__']\n",
        "\n",
        "for k in tqdm(data.keys()):\n",
        "    img = np.asarray(data[k])\n",
        "    X.append(img)\n",
        "    j = k.find('angle')+6\n",
        "    angle = float(k[j:j+4])\n",
        "    j = k.find('throttle')+9\n",
        "    throttle = float(k[j:j+4])\n",
        "    Y.append([angle,throttle])\n",
        "X = np.array(X)\n",
        "Y = np.array(Y)\n",
        "print(X.shape)\n",
        "assert Y.shape[1] == 2\n",
        "print(Y.shape)"
      ],
      "execution_count": 4,
      "outputs": [
        {
          "output_type": "stream",
          "text": [
            "100%|██████████| 2807/2807 [00:00<00:00, 312126.49it/s]\n"
          ],
          "name": "stderr"
        },
        {
          "output_type": "stream",
          "text": [
            "(2807, 240, 320, 3)\n",
            "(2807, 2)\n"
          ],
          "name": "stdout"
        }
      ]
    },
    {
      "cell_type": "markdown",
      "metadata": {
        "id": "rV2vEqo4hhrX"
      },
      "source": [
        "Split data into train data and test data"
      ]
    },
    {
      "cell_type": "code",
      "metadata": {
        "id": "PIvRmoUvGAYs",
        "outputId": "d34eab37-319d-4a1f-d449-19fc716ef9a3",
        "colab": {
          "base_uri": "https://localhost:8080/",
          "height": 34
        }
      },
      "source": [
        "X_train, X_test, Y_train, Y_test = train_test_split(X, Y, random_state=13, test_size=100, shuffle = True)\n",
        "print(X_train.shape,X_test.shape)"
      ],
      "execution_count": 5,
      "outputs": [
        {
          "output_type": "stream",
          "text": [
            "(2707, 240, 320, 3) (100, 240, 320, 3)\n"
          ],
          "name": "stdout"
        }
      ]
    },
    {
      "cell_type": "markdown",
      "metadata": {
        "id": "a79Yz9jQd-Ch"
      },
      "source": [
        "Defining the Model"
      ]
    },
    {
      "cell_type": "markdown",
      "metadata": {
        "id": "k1CGwjO7Bmia"
      },
      "source": [
        "Convolution Layers"
      ]
    },
    {
      "cell_type": "code",
      "metadata": {
        "id": "I5jK3Kq4g3Ed",
        "outputId": "84d295f5-5281-495e-b771-c321065c5ca9",
        "colab": {
          "base_uri": "https://localhost:8080/",
          "height": 357
        }
      },
      "source": [
        "model = keras.Sequential()\n",
        "model.add(keras.Input(shape = (240,320,3)))\n",
        "model.add(layers.Conv2D(24, 5, strides=2, activation=\"elu\", use_bias=False))\n",
        "model.add(layers.Conv2D(36,5, strides=2,activation=\"elu\", use_bias=False))\n",
        "model.add(layers.Conv2D(48,5, strides=2,activation=\"elu\",use_bias=False))\n",
        "model.add(layers.Conv2D(64,5, strides=2,activation=\"elu\",use_bias= False))\n",
        "model.add(layers.Conv2D(64,5, strides=2,activation=\"elu\", use_bias=False))\n",
        "model.add(layers.Dropout(.4))\n",
        "model.summary()"
      ],
      "execution_count": 6,
      "outputs": [
        {
          "output_type": "stream",
          "text": [
            "Model: \"sequential\"\n",
            "_________________________________________________________________\n",
            "Layer (type)                 Output Shape              Param #   \n",
            "=================================================================\n",
            "conv2d (Conv2D)              (None, 118, 158, 24)      1800      \n",
            "_________________________________________________________________\n",
            "conv2d_1 (Conv2D)            (None, 57, 77, 36)        21600     \n",
            "_________________________________________________________________\n",
            "conv2d_2 (Conv2D)            (None, 27, 37, 48)        43200     \n",
            "_________________________________________________________________\n",
            "conv2d_3 (Conv2D)            (None, 12, 17, 64)        76800     \n",
            "_________________________________________________________________\n",
            "conv2d_4 (Conv2D)            (None, 4, 7, 64)          102400    \n",
            "_________________________________________________________________\n",
            "dropout (Dropout)            (None, 4, 7, 64)          0         \n",
            "=================================================================\n",
            "Total params: 245,800\n",
            "Trainable params: 245,800\n",
            "Non-trainable params: 0\n",
            "_________________________________________________________________\n"
          ],
          "name": "stdout"
        }
      ]
    },
    {
      "cell_type": "markdown",
      "metadata": {
        "id": "_QDvFK1aBqrT"
      },
      "source": [
        "Linear Layers"
      ]
    },
    {
      "cell_type": "code",
      "metadata": {
        "id": "GT_dnF_5d8-u",
        "outputId": "02df6556-5c72-4dbb-bce1-e72b37471eab",
        "colab": {
          "base_uri": "https://localhost:8080/",
          "height": 527
        }
      },
      "source": [
        "model.add(Flatten())\n",
        "model.add(layers.Dense(100,activation='elu',use_bias=False, input_shape = (64*1*18,)))\n",
        "model.add(layers.Dense(50,activation='elu',use_bias=False, input_shape = (100,)))\n",
        "model.add(layers.Dense(10,activation='elu',use_bias=False, input_shape = (50,)))\n",
        "model.add(layers.Dense(2,activation='elu',use_bias=False, input_shape = (10,)))\n",
        "model.summary()"
      ],
      "execution_count": 7,
      "outputs": [
        {
          "output_type": "stream",
          "text": [
            "Model: \"sequential\"\n",
            "_________________________________________________________________\n",
            "Layer (type)                 Output Shape              Param #   \n",
            "=================================================================\n",
            "conv2d (Conv2D)              (None, 118, 158, 24)      1800      \n",
            "_________________________________________________________________\n",
            "conv2d_1 (Conv2D)            (None, 57, 77, 36)        21600     \n",
            "_________________________________________________________________\n",
            "conv2d_2 (Conv2D)            (None, 27, 37, 48)        43200     \n",
            "_________________________________________________________________\n",
            "conv2d_3 (Conv2D)            (None, 12, 17, 64)        76800     \n",
            "_________________________________________________________________\n",
            "conv2d_4 (Conv2D)            (None, 4, 7, 64)          102400    \n",
            "_________________________________________________________________\n",
            "dropout (Dropout)            (None, 4, 7, 64)          0         \n",
            "_________________________________________________________________\n",
            "flatten (Flatten)            (None, 1792)              0         \n",
            "_________________________________________________________________\n",
            "dense (Dense)                (None, 100)               179200    \n",
            "_________________________________________________________________\n",
            "dense_1 (Dense)              (None, 50)                5000      \n",
            "_________________________________________________________________\n",
            "dense_2 (Dense)              (None, 10)                500       \n",
            "_________________________________________________________________\n",
            "dense_3 (Dense)              (None, 2)                 20        \n",
            "=================================================================\n",
            "Total params: 430,520\n",
            "Trainable params: 430,520\n",
            "Non-trainable params: 0\n",
            "_________________________________________________________________\n"
          ],
          "name": "stdout"
        }
      ]
    },
    {
      "cell_type": "code",
      "metadata": {
        "id": "HXcSMcS2eNfo"
      },
      "source": [
        "tf.debugging.set_log_device_placement(True)\n",
        "model.compile(optimizer=tf.keras.optimizers.Adam(learning_rate=0.0001), \n",
        "              loss=tf.keras.losses.MeanSquaredError(), metrics=[tf.keras.metrics.CategoricalCrossentropy()])  \n",
        "num_epochs = 50"
      ],
      "execution_count": 10,
      "outputs": []
    },
    {
      "cell_type": "code",
      "metadata": {
        "id": "xuz0wT2uA41D",
        "outputId": "52fdb58d-6849-4b8d-e0bd-15c91c478cde",
        "colab": {
          "base_uri": "https://localhost:8080/",
          "height": 1000
        }
      },
      "source": [
        "hist=model.fit(X_train, Y_train, epochs=num_epochs, validation_data=(X_test, Y_test),batch_size=32, shuffle=True)"
      ],
      "execution_count": 11,
      "outputs": [
        {
          "output_type": "stream",
          "text": [
            "Epoch 1/50\n",
            " 1/85 [..............................] - ETA: 2s - loss: 0.2252 - categorical_crossentropy: 0.9006WARNING:tensorflow:Callbacks method `on_train_batch_end` is slow compared to the batch time (batch time: 0.0161s vs `on_train_batch_end` time: 0.0271s). Check your callbacks.\n",
            "85/85 [==============================] - 2s 28ms/step - loss: 0.1996 - categorical_crossentropy: 0.0786 - val_loss: 0.1717 - val_categorical_crossentropy: 0.3434\n",
            "Epoch 2/50\n",
            "85/85 [==============================] - 2s 27ms/step - loss: 0.1553 - categorical_crossentropy: -0.0469 - val_loss: 0.1296 - val_categorical_crossentropy: -0.5018\n",
            "Epoch 3/50\n",
            "85/85 [==============================] - 2s 27ms/step - loss: 0.1261 - categorical_crossentropy: -0.1407 - val_loss: 0.1102 - val_categorical_crossentropy: -0.5248\n",
            "Epoch 4/50\n",
            "85/85 [==============================] - 2s 26ms/step - loss: 0.1038 - categorical_crossentropy: -0.4000 - val_loss: 0.0938 - val_categorical_crossentropy: -0.5444\n",
            "Epoch 5/50\n",
            "85/85 [==============================] - 2s 27ms/step - loss: 0.0902 - categorical_crossentropy: -0.4644 - val_loss: 0.0818 - val_categorical_crossentropy: 0.0472\n",
            "Epoch 6/50\n",
            "85/85 [==============================] - 2s 27ms/step - loss: 0.0776 - categorical_crossentropy: -0.3406 - val_loss: 0.0830 - val_categorical_crossentropy: -0.6970\n",
            "Epoch 7/50\n",
            "85/85 [==============================] - 2s 27ms/step - loss: 0.0695 - categorical_crossentropy: -0.4943 - val_loss: 0.0679 - val_categorical_crossentropy: -0.5523\n",
            "Epoch 8/50\n",
            "85/85 [==============================] - 2s 27ms/step - loss: 0.0584 - categorical_crossentropy: -0.3392 - val_loss: 0.0572 - val_categorical_crossentropy: -1.2077\n",
            "Epoch 9/50\n",
            "85/85 [==============================] - 2s 27ms/step - loss: 0.0525 - categorical_crossentropy: -0.3842 - val_loss: 0.0634 - val_categorical_crossentropy: -0.5551\n",
            "Epoch 10/50\n",
            "85/85 [==============================] - 2s 27ms/step - loss: 0.0473 - categorical_crossentropy: -0.3492 - val_loss: 0.0574 - val_categorical_crossentropy: -0.2328\n",
            "Epoch 11/50\n",
            "85/85 [==============================] - 2s 27ms/step - loss: 0.0426 - categorical_crossentropy: -0.4021 - val_loss: 0.0495 - val_categorical_crossentropy: -0.8896\n",
            "Epoch 12/50\n",
            "85/85 [==============================] - 2s 28ms/step - loss: 0.0349 - categorical_crossentropy: -0.4867 - val_loss: 0.0549 - val_categorical_crossentropy: -0.2455\n",
            "Epoch 13/50\n",
            "85/85 [==============================] - 2s 27ms/step - loss: 0.0342 - categorical_crossentropy: -0.3749 - val_loss: 0.0521 - val_categorical_crossentropy: -1.2007\n",
            "Epoch 14/50\n",
            "85/85 [==============================] - 2s 28ms/step - loss: 0.0303 - categorical_crossentropy: -0.4572 - val_loss: 0.0514 - val_categorical_crossentropy: -1.2130\n",
            "Epoch 15/50\n",
            "85/85 [==============================] - 2s 28ms/step - loss: 0.0270 - categorical_crossentropy: -0.5143 - val_loss: 0.0428 - val_categorical_crossentropy: -0.5724\n",
            "Epoch 16/50\n",
            "85/85 [==============================] - 2s 28ms/step - loss: 0.0246 - categorical_crossentropy: -0.3144 - val_loss: 0.0468 - val_categorical_crossentropy: -0.8867\n",
            "Epoch 17/50\n",
            "85/85 [==============================] - 2s 28ms/step - loss: 0.0223 - categorical_crossentropy: -0.4360 - val_loss: 0.0471 - val_categorical_crossentropy: -0.8906\n",
            "Epoch 18/50\n",
            "85/85 [==============================] - 2s 28ms/step - loss: 0.0206 - categorical_crossentropy: -0.3783 - val_loss: 0.0417 - val_categorical_crossentropy: -0.9008\n",
            "Epoch 19/50\n",
            "85/85 [==============================] - 2s 28ms/step - loss: 0.0177 - categorical_crossentropy: -0.4709 - val_loss: 0.0465 - val_categorical_crossentropy: -0.5622\n",
            "Epoch 20/50\n",
            "85/85 [==============================] - 2s 28ms/step - loss: 0.0176 - categorical_crossentropy: -0.3415 - val_loss: 0.0442 - val_categorical_crossentropy: -0.8949\n",
            "Epoch 21/50\n",
            "85/85 [==============================] - 2s 28ms/step - loss: 0.0164 - categorical_crossentropy: -0.2174 - val_loss: 0.0469 - val_categorical_crossentropy: -0.9025\n",
            "Epoch 22/50\n",
            "85/85 [==============================] - 2s 29ms/step - loss: 0.0145 - categorical_crossentropy: -0.3880 - val_loss: 0.0413 - val_categorical_crossentropy: -0.2548\n",
            "Epoch 23/50\n",
            "85/85 [==============================] - 2s 29ms/step - loss: 0.0134 - categorical_crossentropy: -0.2347 - val_loss: 0.0431 - val_categorical_crossentropy: -0.5815\n",
            "Epoch 24/50\n",
            "85/85 [==============================] - 2s 28ms/step - loss: 0.0120 - categorical_crossentropy: -0.2835 - val_loss: 0.0382 - val_categorical_crossentropy: -0.5838\n",
            "Epoch 25/50\n",
            "85/85 [==============================] - 2s 29ms/step - loss: 0.0111 - categorical_crossentropy: -0.3322 - val_loss: 0.0409 - val_categorical_crossentropy: -0.5741\n",
            "Epoch 26/50\n",
            "85/85 [==============================] - 2s 29ms/step - loss: 0.0109 - categorical_crossentropy: -0.3675 - val_loss: 0.0426 - val_categorical_crossentropy: -0.2482\n",
            "Epoch 27/50\n",
            "85/85 [==============================] - 2s 29ms/step - loss: 0.0089 - categorical_crossentropy: -0.2873 - val_loss: 0.0422 - val_categorical_crossentropy: -0.2569\n",
            "Epoch 28/50\n",
            "85/85 [==============================] - 2s 29ms/step - loss: 0.0090 - categorical_crossentropy: -0.3710 - val_loss: 0.0395 - val_categorical_crossentropy: -0.5814\n",
            "Epoch 29/50\n",
            "85/85 [==============================] - 2s 29ms/step - loss: 0.0083 - categorical_crossentropy: -0.1931 - val_loss: 0.0413 - val_categorical_crossentropy: -0.9085\n",
            "Epoch 30/50\n",
            "85/85 [==============================] - 2s 29ms/step - loss: 0.0077 - categorical_crossentropy: -0.3235 - val_loss: 0.0350 - val_categorical_crossentropy: -0.9025\n",
            "Epoch 31/50\n",
            "85/85 [==============================] - 2s 29ms/step - loss: 0.0071 - categorical_crossentropy: -0.2186 - val_loss: 0.0419 - val_categorical_crossentropy: -0.8819\n",
            "Epoch 32/50\n",
            "85/85 [==============================] - 2s 29ms/step - loss: 0.0075 - categorical_crossentropy: -0.3609 - val_loss: 0.0364 - val_categorical_crossentropy: -0.5900\n",
            "Epoch 33/50\n",
            "85/85 [==============================] - 2s 29ms/step - loss: 0.0066 - categorical_crossentropy: -0.1942 - val_loss: 0.0386 - val_categorical_crossentropy: -0.5808\n",
            "Epoch 34/50\n",
            "85/85 [==============================] - 2s 29ms/step - loss: 0.0061 - categorical_crossentropy: -0.1593 - val_loss: 0.0420 - val_categorical_crossentropy: -0.5845\n",
            "Epoch 35/50\n",
            "85/85 [==============================] - 2s 29ms/step - loss: 0.0057 - categorical_crossentropy: -0.3750 - val_loss: 0.0352 - val_categorical_crossentropy: -0.9058\n",
            "Epoch 36/50\n",
            "85/85 [==============================] - 2s 29ms/step - loss: 0.0053 - categorical_crossentropy: -0.1730 - val_loss: 0.0381 - val_categorical_crossentropy: -0.9008\n",
            "Epoch 37/50\n",
            "85/85 [==============================] - 2s 29ms/step - loss: 0.0050 - categorical_crossentropy: -0.0897 - val_loss: 0.0396 - val_categorical_crossentropy: -0.2576\n",
            "Epoch 38/50\n",
            "85/85 [==============================] - 2s 29ms/step - loss: 0.0048 - categorical_crossentropy: -0.3409 - val_loss: 0.0365 - val_categorical_crossentropy: -0.5865\n",
            "Epoch 39/50\n",
            "85/85 [==============================] - 2s 29ms/step - loss: 0.0047 - categorical_crossentropy: -0.2694 - val_loss: 0.0368 - val_categorical_crossentropy: -0.9089\n",
            "Epoch 40/50\n",
            "85/85 [==============================] - 2s 29ms/step - loss: 0.0040 - categorical_crossentropy: -0.1148 - val_loss: 0.0322 - val_categorical_crossentropy: -0.5932\n",
            "Epoch 41/50\n",
            "85/85 [==============================] - 2s 29ms/step - loss: 0.0040 - categorical_crossentropy: -0.2471 - val_loss: 0.0353 - val_categorical_crossentropy: -0.5823\n",
            "Epoch 42/50\n",
            "85/85 [==============================] - 2s 28ms/step - loss: 0.0036 - categorical_crossentropy: -0.2225 - val_loss: 0.0367 - val_categorical_crossentropy: -0.2604\n",
            "Epoch 43/50\n",
            "85/85 [==============================] - 2s 28ms/step - loss: 0.0034 - categorical_crossentropy: -0.1158 - val_loss: 0.0372 - val_categorical_crossentropy: -0.2536\n",
            "Epoch 44/50\n",
            "85/85 [==============================] - 2s 28ms/step - loss: 0.0040 - categorical_crossentropy: -0.0203 - val_loss: 0.0377 - val_categorical_crossentropy: -1.2294\n",
            "Epoch 45/50\n",
            "85/85 [==============================] - 2s 28ms/step - loss: 0.0032 - categorical_crossentropy: -0.3190 - val_loss: 0.0398 - val_categorical_crossentropy: -0.5850\n",
            "Epoch 46/50\n",
            "85/85 [==============================] - 2s 28ms/step - loss: 0.0031 - categorical_crossentropy: -0.0810 - val_loss: 0.0402 - val_categorical_crossentropy: -0.5911\n",
            "Epoch 47/50\n",
            "85/85 [==============================] - 2s 28ms/step - loss: 0.0031 - categorical_crossentropy: -0.2353 - val_loss: 0.0359 - val_categorical_crossentropy: 0.0533\n",
            "Epoch 48/50\n",
            "85/85 [==============================] - 2s 28ms/step - loss: 0.0031 - categorical_crossentropy: -0.0578 - val_loss: 0.0339 - val_categorical_crossentropy: -0.9065\n",
            "Epoch 49/50\n",
            "85/85 [==============================] - 2s 28ms/step - loss: 0.0027 - categorical_crossentropy: -0.2718 - val_loss: 0.0362 - val_categorical_crossentropy: -0.5764\n",
            "Epoch 50/50\n",
            "85/85 [==============================] - 2s 28ms/step - loss: 0.0026 - categorical_crossentropy: -0.2004 - val_loss: 0.0347 - val_categorical_crossentropy: -0.5888\n"
          ],
          "name": "stdout"
        }
      ]
    },
    {
      "cell_type": "code",
      "metadata": {
        "id": "dvxgisQJfZ42",
        "outputId": "6ed9c0b8-4c0f-4fe0-dba5-6f1f45b1864c",
        "colab": {
          "base_uri": "https://localhost:8080/",
          "height": 332
        }
      },
      "source": [
        "print(hist.history)\n",
        "\n",
        "plt.plot(hist.history['loss'])\n",
        "plt.plot(hist.history['val_loss'])\n",
        "plt.title('Model loss')\n",
        "plt.ylabel('Loss')\n",
        "plt.xlabel('Epoch')\n",
        "plt.legend(['Train', 'Val'], loc='upper right')\n",
        "plt.show()\n",
        "plt.pause(5.)"
      ],
      "execution_count": 14,
      "outputs": [
        {
          "output_type": "stream",
          "text": [
            "{'loss': [0.19957053661346436, 0.15531064569950104, 0.12610071897506714, 0.1038222685456276, 0.09023178368806839, 0.07763566076755524, 0.06945248693227768, 0.05841957405209541, 0.052488695830106735, 0.04734417423605919, 0.04260252043604851, 0.03488766402006149, 0.03417177498340607, 0.03029594011604786, 0.02698821760714054, 0.024570198729634285, 0.022327864542603493, 0.020571153610944748, 0.01767643354833126, 0.017639899626374245, 0.016428859904408455, 0.014509590342640877, 0.013435383327305317, 0.012044702656567097, 0.011138132773339748, 0.01087875198572874, 0.00885941181331873, 0.008959388360381126, 0.008255310356616974, 0.007708628196269274, 0.007145066745579243, 0.007450591307133436, 0.00655956007540226, 0.0060869320295751095, 0.0057060071267187595, 0.005324108060449362, 0.004989570006728172, 0.004763749893754721, 0.004747308325022459, 0.003981091547757387, 0.003952422644942999, 0.0035806840751320124, 0.0034435063134878874, 0.0039596050046384335, 0.0031938457395881414, 0.003126389579847455, 0.003134444821625948, 0.0031433668918907642, 0.0027164972852915525, 0.0025705513544380665], 'categorical_crossentropy': [0.07859209924936295, -0.046893347054719925, -0.1406695693731308, -0.4000461995601654, -0.4643568992614746, -0.3405579924583435, -0.494276762008667, -0.3391679525375366, -0.38424721360206604, -0.34919658303260803, -0.4020814001560211, -0.48670586943626404, -0.3749123811721802, -0.4572070240974426, -0.5142593383789062, -0.31438949704170227, -0.43597161769866943, -0.37826335430145264, -0.47092562913894653, -0.341450035572052, -0.2174135446548462, -0.3879985809326172, -0.2346992790699005, -0.2834725081920624, -0.33216267824172974, -0.3674648404121399, -0.2873363494873047, -0.37100210785865784, -0.19311480224132538, -0.3234538733959198, -0.21859535574913025, -0.3609415888786316, -0.19422033429145813, -0.15932132303714752, -0.37496450543403625, -0.17295801639556885, -0.08969087898731232, -0.3409010171890259, -0.2694409489631653, -0.11482901126146317, -0.24712158739566803, -0.2225365936756134, -0.1157972663640976, -0.02027626894414425, -0.3190012574195862, -0.08103205263614655, -0.235257089138031, -0.05783028155565262, -0.27181994915008545, -0.2004242092370987], 'val_loss': [0.1716764271259308, 0.12955372035503387, 0.11017102003097534, 0.09377506375312805, 0.08180840313434601, 0.08296193182468414, 0.06793276965618134, 0.05721385404467583, 0.06337395310401917, 0.057367730885744095, 0.04950995370745659, 0.05486176908016205, 0.052060507237911224, 0.05140835419297218, 0.04275142028927803, 0.046797771006822586, 0.04711896926164627, 0.04169810935854912, 0.04647472873330116, 0.044233378022909164, 0.046884775161743164, 0.041267991065979004, 0.0431419238448143, 0.0381782166659832, 0.04088304564356804, 0.04263093322515488, 0.04219165816903114, 0.039505019783973694, 0.04129974916577339, 0.0350252166390419, 0.04193011298775673, 0.036373697221279144, 0.03861542418599129, 0.041950903832912445, 0.035200875252485275, 0.03813640773296356, 0.0396190881729126, 0.03645787015557289, 0.03675563260912895, 0.032233353704214096, 0.03530916944146156, 0.03665529564023018, 0.03716639429330826, 0.03773808106780052, 0.03978352248668671, 0.04021007940173149, 0.03585352003574371, 0.0339302197098732, 0.03621790558099747, 0.03471129387617111], 'val_categorical_crossentropy': [0.34337666630744934, -0.5018481016159058, -0.5247828364372253, -0.5443968176841736, 0.0472370870411396, -0.6969925165176392, -0.5523489713668823, -1.207688331604004, -0.5550997853279114, -0.23280416429042816, -0.8896163105964661, -0.24549493193626404, -1.2006667852401733, -1.2129548788070679, -0.5723667740821838, -0.886711597442627, -0.8906097412109375, -0.9008099436759949, -0.5622133612632751, -0.8948590755462646, -0.902489185333252, -0.25479358434677124, -0.5815273523330688, -0.5837826728820801, -0.5740616321563721, -0.2482108175754547, -0.25688427686691284, -0.5813855528831482, -0.9085184335708618, -0.902519941329956, -0.881947934627533, -0.5899571180343628, -0.5808215141296387, -0.5845058560371399, -0.9057756066322327, -0.9007620215415955, -0.25759947299957275, -0.5865384936332703, -0.9089372754096985, -0.5932466387748718, -0.5822653770446777, -0.2604278326034546, -0.2535918056964874, -1.2294107675552368, -0.5850323438644409, -0.5910809636116028, 0.05327710136771202, -0.9065157175064087, -0.5764081478118896, -0.5888122320175171]}\n"
          ],
          "name": "stdout"
        },
        {
          "output_type": "display_data",
          "data": {
            "image/png": "[encoded data removed]",
            "text/plain": [
              "<Figure size 432x288 with 1 Axes>"
            ]
          },
          "metadata": {
            "tags": [],
            "needs_background": "light"
          }
        }
      ]
    },
    {
      "cell_type": "code",
      "metadata": {
        "id": "c3kOb2CjwL3Q"
      },
      "source": [
        "model.save(\"model1.h5\")   "
      ],
      "execution_count": 15,
      "outputs": []
    }
  ]
}